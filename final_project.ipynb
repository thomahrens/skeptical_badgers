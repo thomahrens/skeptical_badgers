{
 "cells": [
  {
   "cell_type": "code",
   "execution_count": 1,
   "metadata": {},
   "outputs": [],
   "source": [
    "import numpy as np\n",
    "import matplotlib.pyplot as plt\n",
    "import matplotlib as mpl\n",
    "from tqdm.notebook import tqdm\n",
    "from IPython.display import display, Markdown"
   ]
  },
  {
   "cell_type": "code",
   "execution_count": 2,
   "metadata": {},
   "outputs": [],
   "source": [
    "%matplotlib inline\n",
    "mpl.rc('font', size=14)\n",
    "mpl.rcParams['figure.dpi'] = 300\n",
    "mpl.rcParams['font.family'] = 'serif'\n",
    "mpl.rcParams['text.usetex'] = True \n",
    "mpl.rcParams['axes.grid'] = True"
   ]
  },
  {
   "cell_type": "code",
   "execution_count": 3,
   "metadata": {},
   "outputs": [],
   "source": [
    "np.random.seed(42)"
   ]
  },
  {
   "cell_type": "code",
   "execution_count": 4,
   "metadata": {},
   "outputs": [],
   "source": [
    "def generate(sigma_gt, sigma_Lt, sigma_thetat, N, true_g=9.80665, true_L=1., true_theta_0=10):\n",
    "    gs = np.random.normal(true_g, sigma_gt, N)\n",
    "    Ls = np.random.normal(true_L, sigma_Lt, N)\n",
    "    thetas = np.deg2rad(np.random.uniform(true_theta_0 - sigma_thetat, \n",
    "                                          true_theta_0 + sigma_thetat, N))\n",
    "    return gs, Ls, thetas\n",
    "\n",
    "def period_int(g, L, theta_0, sigma_n, N=int(3 * 1e7)):\n",
    "    thetas = np.linspace(0, theta_0, N)[:-1]\n",
    "    integrand = 1 / np.sqrt(np.cos(thetas) - np.cos(theta_0))\n",
    "    integral = np.trapz(integrand, thetas)\n",
    "    per = 2 * np.sqrt(2) * np.sqrt(L / g) * integral\n",
    "    sys_unc = np.random.uniform(-sigma_n, sigma_n)\n",
    "    return per + sys_unc\n",
    "\n",
    "def find_g(ts, Ls):\n",
    "    return 4 * np.pi**2 * Ls / ts**2\n",
    "\n",
    "def dg_dt(ts, Ls):\n",
    "    return - (8 * np.pi**2 * Ls) / ts**3\n",
    "\n",
    "def dg_dL(ts):\n",
    "    return (4 * np.pi**2) / ts**2\n",
    "\n",
    "def find_g_err(ts, Ls, sigma_ti, sigma_Li):\n",
    "    t_unc = dg_dt(ts, Ls)**2 * sigma_ti**2\n",
    "    L_unc = dg_dL(ts)**2 * sigma_Li**2\n",
    "    return np.sqrt(t_unc + L_unc)"
   ]
  },
  {
   "cell_type": "code",
   "execution_count": 16,
   "metadata": {},
   "outputs": [],
   "source": [
    "def weighted_mean(vals, uncs):\n",
    "    weights = 1 / uncs**2\n",
    "    mean = np.sum(weights * vals) / np.sum(weights)\n",
    "    unc = 1 / np.sqrt(np.sum(weights))\n",
    "    return mean, unc\n",
    "\n",
    "def display_vals(params, g_mean, g_unc):\n",
    "    display(Markdown(f'<h3>${[param for param in params]}$<h3>'))\n",
    "    display(Markdown(f'<h3>$g = {g_mean:0.5f} \\pm {g_unc:0.5f}$<h3>'))"
   ]
  },
  {
   "cell_type": "code",
   "execution_count": 22,
   "metadata": {},
   "outputs": [],
   "source": [
    "def run_sim(params, N=50, disp=True):\n",
    "    \"\"\"\n",
    "    Calculates the mean measurement and uncertainty on g, given a set of uncertainties.\n",
    "    \n",
    "    Parameters\n",
    "    ----------\n",
    "        params : list\n",
    "            params[0], the uncertainty on the ``true'' value of g\n",
    "            params[1],          \"         \"          \"          L\n",
    "            params[2],          \"         \"          \"          theta\n",
    "            params[3],          \"         \"   measured period\n",
    "            params[4], the precision of the stopwatch/timer\n",
    "            params[5],          \"         \" ruler\n",
    "    \n",
    "    \"\"\"\n",
    "    sigma_gt, sigma_Lt, sigma_thetat, sigma_n, sigma_ti, sigma_Li = params\n",
    "    gs, Ls, thetas = generate(sigma_gt, sigma_Lt, sigma_thetat, N)\n",
    "    ts = np.zeros(N)\n",
    "    for i, (g, L, theta) in enumerate(tqdm(zip(gs, Ls, thetas), total=N)):\n",
    "        ts[i] = period_int(g, L, theta, sigma_n)\n",
    "    g_i = find_g(ts, Ls)\n",
    "    g_i_unc = find_g_err(ts, Ls, sigma_ti, sigma_Li)\n",
    "    g_mean, g_unc = weighted_mean(g_i, g_i_unc)\n",
    "    if disp:\n",
    "        display_vals(params, g_mean, g_unc)\n",
    "#     return g_mean, g_unc"
   ]
  },
  {
   "cell_type": "code",
   "execution_count": 23,
   "metadata": {},
   "outputs": [],
   "source": [
    "vals = [\n",
    "    [0.000001, 1e-6, 0.5, 0.15, 0.01, 0.001], \n",
    "    [0., 1e-6, 0.5, 0.15, 0.01, 0.001],\n",
    "    [0.000001, 0., 0.5, 0.15, 0.01, 0.001],\n",
    "    [0.000001, 1e-6, 0., 0.15, 0.01, 0.001],\n",
    "    [0.000001, 1e-6, 0.5, 0., 0.01, 0.001],\n",
    "    [0.000001, 1e-6, 0.5, 0.15, 0., 0.001],\n",
    "    [0.000001, 1e-6, 0.5, 0.15, 0.01, 0.],\n",
    "    [0., 0., 0., 0.15, 0.01, 0.001],\n",
    "    [0., 0., 0., 0.01, 0.01, 0.0001],\n",
    "]"
   ]
  },
  {
   "cell_type": "code",
   "execution_count": 24,
   "metadata": {
    "scrolled": false
   },
   "outputs": [
    {
     "name": "stdout",
     "output_type": "stream",
     "text": [
      "────────────────────────────────────────────────────────────\n"
     ]
    },
    {
     "data": {
      "application/vnd.jupyter.widget-view+json": {
       "model_id": "c2049c02188a4bbe82b1e7bfe4d097c8",
       "version_major": 2,
       "version_minor": 0
      },
      "text/plain": [
       "  0%|          | 0/50 [00:00<?, ?it/s]"
      ]
     },
     "metadata": {},
     "output_type": "display_data"
    },
    {
     "data": {
      "text/markdown": [
       "<h3>$[1e-06, 1e-06, 0.5, 0.15, 0.01, 0.001]$<h3>"
      ],
      "text/plain": [
       "<IPython.core.display.Markdown object>"
      ]
     },
     "metadata": {},
     "output_type": "display_data"
    },
    {
     "data": {
      "text/markdown": [
       "<h3>$g = 9.57688 \\pm 0.01356$<h3>"
      ],
      "text/plain": [
       "<IPython.core.display.Markdown object>"
      ]
     },
     "metadata": {},
     "output_type": "display_data"
    },
    {
     "name": "stdout",
     "output_type": "stream",
     "text": [
      "────────────────────────────────────────────────────────────\n"
     ]
    },
    {
     "data": {
      "application/vnd.jupyter.widget-view+json": {
       "model_id": "15066466903c478195af21f4621c5721",
       "version_major": 2,
       "version_minor": 0
      },
      "text/plain": [
       "  0%|          | 0/50 [00:00<?, ?it/s]"
      ]
     },
     "metadata": {},
     "output_type": "display_data"
    },
    {
     "data": {
      "text/markdown": [
       "<h3>$[0.0, 1e-06, 0.5, 0.15, 0.01, 0.001]$<h3>"
      ],
      "text/plain": [
       "<IPython.core.display.Markdown object>"
      ]
     },
     "metadata": {},
     "output_type": "display_data"
    },
    {
     "data": {
      "text/markdown": [
       "<h3>$g = 9.47414 \\pm 0.01334$<h3>"
      ],
      "text/plain": [
       "<IPython.core.display.Markdown object>"
      ]
     },
     "metadata": {},
     "output_type": "display_data"
    },
    {
     "name": "stdout",
     "output_type": "stream",
     "text": [
      "────────────────────────────────────────────────────────────\n"
     ]
    },
    {
     "data": {
      "application/vnd.jupyter.widget-view+json": {
       "model_id": "e20b88dd44dd4de196f7be79745ff653",
       "version_major": 2,
       "version_minor": 0
      },
      "text/plain": [
       "  0%|          | 0/50 [00:00<?, ?it/s]"
      ]
     },
     "metadata": {},
     "output_type": "display_data"
    },
    {
     "data": {
      "text/markdown": [
       "<h3>$[1e-06, 0.0, 0.5, 0.15, 0.01, 0.001]$<h3>"
      ],
      "text/plain": [
       "<IPython.core.display.Markdown object>"
      ]
     },
     "metadata": {},
     "output_type": "display_data"
    },
    {
     "data": {
      "text/markdown": [
       "<h3>$g = 9.57351 \\pm 0.01353$<h3>"
      ],
      "text/plain": [
       "<IPython.core.display.Markdown object>"
      ]
     },
     "metadata": {},
     "output_type": "display_data"
    },
    {
     "name": "stdout",
     "output_type": "stream",
     "text": [
      "────────────────────────────────────────────────────────────\n"
     ]
    },
    {
     "data": {
      "application/vnd.jupyter.widget-view+json": {
       "model_id": "05059168318c41f08ec15d8010e9f89d",
       "version_major": 2,
       "version_minor": 0
      },
      "text/plain": [
       "  0%|          | 0/50 [00:00<?, ?it/s]"
      ]
     },
     "metadata": {},
     "output_type": "display_data"
    },
    {
     "data": {
      "text/markdown": [
       "<h3>$[1e-06, 1e-06, 0.0, 0.15, 0.01, 0.001]$<h3>"
      ],
      "text/plain": [
       "<IPython.core.display.Markdown object>"
      ]
     },
     "metadata": {},
     "output_type": "display_data"
    },
    {
     "data": {
      "text/markdown": [
       "<h3>$g = 9.72274 \\pm 0.01387$<h3>"
      ],
      "text/plain": [
       "<IPython.core.display.Markdown object>"
      ]
     },
     "metadata": {},
     "output_type": "display_data"
    },
    {
     "name": "stdout",
     "output_type": "stream",
     "text": [
      "────────────────────────────────────────────────────────────\n"
     ]
    },
    {
     "data": {
      "application/vnd.jupyter.widget-view+json": {
       "model_id": "787f3952561744f287a98e26b5b98e7a",
       "version_major": 2,
       "version_minor": 0
      },
      "text/plain": [
       "  0%|          | 0/50 [00:00<?, ?it/s]"
      ]
     },
     "metadata": {},
     "output_type": "display_data"
    },
    {
     "data": {
      "text/markdown": [
       "<h3>$[1e-06, 1e-06, 0.5, 0.0, 0.01, 0.001]$<h3>"
      ],
      "text/plain": [
       "<IPython.core.display.Markdown object>"
      ]
     },
     "metadata": {},
     "output_type": "display_data"
    },
    {
     "data": {
      "text/markdown": [
       "<h3>$g = 9.77260 \\pm 0.01382$<h3>"
      ],
      "text/plain": [
       "<IPython.core.display.Markdown object>"
      ]
     },
     "metadata": {},
     "output_type": "display_data"
    },
    {
     "name": "stdout",
     "output_type": "stream",
     "text": [
      "────────────────────────────────────────────────────────────\n"
     ]
    },
    {
     "data": {
      "application/vnd.jupyter.widget-view+json": {
       "model_id": "db16d55b17444b8aa43e0ed0b9782f66",
       "version_major": 2,
       "version_minor": 0
      },
      "text/plain": [
       "  0%|          | 0/50 [00:00<?, ?it/s]"
      ]
     },
     "metadata": {},
     "output_type": "display_data"
    },
    {
     "data": {
      "text/markdown": [
       "<h3>$[1e-06, 1e-06, 0.5, 0.15, 0.0, 0.001]$<h3>"
      ],
      "text/plain": [
       "<IPython.core.display.Markdown object>"
      ]
     },
     "metadata": {},
     "output_type": "display_data"
    },
    {
     "data": {
      "text/markdown": [
       "<h3>$g = 9.64192 \\pm 0.00137$<h3>"
      ],
      "text/plain": [
       "<IPython.core.display.Markdown object>"
      ]
     },
     "metadata": {},
     "output_type": "display_data"
    },
    {
     "name": "stdout",
     "output_type": "stream",
     "text": [
      "────────────────────────────────────────────────────────────\n"
     ]
    },
    {
     "data": {
      "application/vnd.jupyter.widget-view+json": {
       "model_id": "68f5b28b074f4a99aba4ef24853ea337",
       "version_major": 2,
       "version_minor": 0
      },
      "text/plain": [
       "  0%|          | 0/50 [00:00<?, ?it/s]"
      ]
     },
     "metadata": {},
     "output_type": "display_data"
    },
    {
     "data": {
      "text/markdown": [
       "<h3>$[1e-06, 1e-06, 0.5, 0.15, 0.01, 0.0]$<h3>"
      ],
      "text/plain": [
       "<IPython.core.display.Markdown object>"
      ]
     },
     "metadata": {},
     "output_type": "display_data"
    },
    {
     "data": {
      "text/markdown": [
       "<h3>$g = 9.54259 \\pm 0.01340$<h3>"
      ],
      "text/plain": [
       "<IPython.core.display.Markdown object>"
      ]
     },
     "metadata": {},
     "output_type": "display_data"
    },
    {
     "name": "stdout",
     "output_type": "stream",
     "text": [
      "────────────────────────────────────────────────────────────\n"
     ]
    },
    {
     "data": {
      "application/vnd.jupyter.widget-view+json": {
       "model_id": "1687e151686446f0a74c4b3345af527a",
       "version_major": 2,
       "version_minor": 0
      },
      "text/plain": [
       "  0%|          | 0/50 [00:00<?, ?it/s]"
      ]
     },
     "metadata": {},
     "output_type": "display_data"
    },
    {
     "data": {
      "text/markdown": [
       "<h3>$[0.0, 0.0, 0.0, 0.15, 0.01, 0.001]$<h3>"
      ],
      "text/plain": [
       "<IPython.core.display.Markdown object>"
      ]
     },
     "metadata": {},
     "output_type": "display_data"
    },
    {
     "data": {
      "text/markdown": [
       "<h3>$g = 9.81584 \\pm 0.01405$<h3>"
      ],
      "text/plain": [
       "<IPython.core.display.Markdown object>"
      ]
     },
     "metadata": {},
     "output_type": "display_data"
    },
    {
     "name": "stdout",
     "output_type": "stream",
     "text": [
      "────────────────────────────────────────────────────────────\n"
     ]
    },
    {
     "data": {
      "application/vnd.jupyter.widget-view+json": {
       "model_id": "4db9f4b0e686455ba7a55a63d1092dea",
       "version_major": 2,
       "version_minor": 0
      },
      "text/plain": [
       "  0%|          | 0/50 [00:00<?, ?it/s]"
      ]
     },
     "metadata": {},
     "output_type": "display_data"
    },
    {
     "data": {
      "text/markdown": [
       "<h3>$[0.0, 0.0, 0.0, 0.01, 0.01, 0.0001]$<h3>"
      ],
      "text/plain": [
       "<IPython.core.display.Markdown object>"
      ]
     },
     "metadata": {},
     "output_type": "display_data"
    },
    {
     "data": {
      "text/markdown": [
       "<h3>$g = 9.75694 \\pm 0.01372$<h3>"
      ],
      "text/plain": [
       "<IPython.core.display.Markdown object>"
      ]
     },
     "metadata": {},
     "output_type": "display_data"
    }
   ],
   "source": [
    "for val in vals:\n",
    "    print(u'\\u2500' * 60)\n",
    "    run_sim(val)"
   ]
  },
  {
   "cell_type": "code",
   "execution_count": null,
   "metadata": {},
   "outputs": [],
   "source": []
  }
 ],
 "metadata": {
  "kernelspec": {
   "display_name": "Python 3 (ipykernel)",
   "language": "python",
   "name": "python3"
  },
  "language_info": {
   "codemirror_mode": {
    "name": "ipython",
    "version": 3
   },
   "file_extension": ".py",
   "mimetype": "text/x-python",
   "name": "python",
   "nbconvert_exporter": "python",
   "pygments_lexer": "ipython3",
   "version": "3.8.13"
  }
 },
 "nbformat": 4,
 "nbformat_minor": 1
}
